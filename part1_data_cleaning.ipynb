{
 "cells": [
  {
   "cell_type": "markdown",
   "metadata": {},
   "source": [
    "# Part 1: Data Cleaning\n",
    "----"
   ]
  },
  {
   "cell_type": "markdown",
   "metadata": {},
   "source": [
    "# To TAs/Graders:\n",
    "\n",
    "### The following below is so important and you could not want to miss.\n",
    "\n",
    "This `data_cleaning.ipynb` file is tedious and boring, which not only\n",
    "\n",
    "- **needs domain knowledge**, but also \n",
    "- **to re-run some code**.\n",
    "\n",
    "It is very suggested to go through this file, and to use the `data/data_com.csv` for other .ipynb.\n",
    "\n",
    "### Explanation for `temp` directory.\n",
    "\n",
    "It is like a playground.\n",
    "\n",
    "No need to worry the important data and models used in other notebook will be re-write, appended, or changed by some running error.\n",
    "\n",
    "- The **raw data** are saved in `raw_data` directory.\n",
    "\n",
    "- The **cleaned data** are saved in `data` directory, which will be used by other .ipynb files.\n",
    "\n",
    "- The **dataset created in this notebook** are saved in `temp/data` directory. Because we assumed you run this code only for checking the code, It is a temp directory, saving temporary data."
   ]
  },
  {
   "cell_type": "markdown",
   "metadata": {},
   "source": [
    "----"
   ]
  },
  {
   "cell_type": "markdown",
   "metadata": {},
   "source": [
    "# Note\n",
    "This file is used to proprocess the fiscal data and graduation data of year 2007 to 2010. Data was cleaned, selectd, merged between table, and combined from different years. The processed data has one identification column 'LEAID', one target column 'AFGR' representing graduation rate, and other feature columns.\n",
    "\n",
    "# Table of contents\n",
    "1. Import data\n",
    "2. Data cleaning\n",
    "3. Combine variables based on explanation from the data manual\n",
    "4. Output\n",
    "5. Combine four data files"
   ]
  },
  {
   "cell_type": "markdown",
   "metadata": {},
   "source": [
    "# 1. Import data\n",
    "---\n",
    "Import both fiscal and graduation data"
   ]
  },
  {
   "cell_type": "markdown",
   "metadata": {},
   "source": [
    "## a. Look at data"
   ]
  },
  {
   "cell_type": "code",
   "execution_count": 1,
   "metadata": {},
   "outputs": [],
   "source": [
    "import pandas as pd"
   ]
  },
  {
   "cell_type": "code",
   "execution_count": 2,
   "metadata": {},
   "outputs": [],
   "source": [
    "# the following code is for data from in year 2008. \n",
    "# For other years, change the file name, eg. 'data/fiscal08-09.txt' and 'data/dr08-09.txt' for year 2009\n",
    "fiscal_path = 'raw_data/fiscal07-08.txt'\n",
    "dropout_path = 'raw_data/dr07-08.txt'"
   ]
  },
  {
   "cell_type": "code",
   "execution_count": 3,
   "metadata": {},
   "outputs": [],
   "source": [
    "def import_data(path):\n",
    "    imported_data = pd.read_csv(path, sep='\\t', low_memory=False, dtype = {'LEAID':str})\n",
    "    return imported_data\n",
    "#dtype={\"LEAID\": str,'SCHLEV':str, 'GSLO':str}"
   ]
  },
  {
   "cell_type": "code",
   "execution_count": 4,
   "metadata": {},
   "outputs": [],
   "source": [
    "fiscal = import_data(fiscal_path)"
   ]
  },
  {
   "cell_type": "code",
   "execution_count": 5,
   "metadata": {},
   "outputs": [],
   "source": [
    "# only year 2008 has graduation data in which the 'leaid' is in lowercase\n",
    "dropout = pd.read_csv(dropout_path, sep='\\t', dtype = {'leaid':str})\n",
    "\n",
    "# for other years run the following code\n",
    "# dropout = pd.read_csv(dropout_path, sep='\\t', dtype = {'LEAID':str})"
   ]
  },
  {
   "cell_type": "code",
   "execution_count": 6,
   "metadata": {},
   "outputs": [],
   "source": [
    "# If no dtype is not specified, there will be an error.\n",
    "# DtypeWarning: Columns (0) have mixed types. Specify dtype option on import or set low_memory=False."
   ]
  },
  {
   "cell_type": "code",
   "execution_count": 7,
   "metadata": {},
   "outputs": [
    {
     "data": {
      "text/html": [
       "<div>\n",
       "<style scoped>\n",
       "    .dataframe tbody tr th:only-of-type {\n",
       "        vertical-align: middle;\n",
       "    }\n",
       "\n",
       "    .dataframe tbody tr th {\n",
       "        vertical-align: top;\n",
       "    }\n",
       "\n",
       "    .dataframe thead th {\n",
       "        text-align: right;\n",
       "    }\n",
       "</style>\n",
       "<table border=\"1\" class=\"dataframe\">\n",
       "  <thead>\n",
       "    <tr style=\"text-align: right;\">\n",
       "      <th></th>\n",
       "      <th>LEAID</th>\n",
       "      <th>CENSUSID</th>\n",
       "      <th>FIPST</th>\n",
       "      <th>CONUM</th>\n",
       "      <th>CSA</th>\n",
       "      <th>CBSA</th>\n",
       "      <th>NAME</th>\n",
       "      <th>STNAME</th>\n",
       "      <th>STABBR</th>\n",
       "      <th>SCHLEV</th>\n",
       "      <th>...</th>\n",
       "      <th>FL_V93</th>\n",
       "      <th>FL_19H</th>\n",
       "      <th>FL_21F</th>\n",
       "      <th>FL_31F</th>\n",
       "      <th>FL_41F</th>\n",
       "      <th>FL_61V</th>\n",
       "      <th>FL_66V</th>\n",
       "      <th>FL_W01</th>\n",
       "      <th>FL_W31</th>\n",
       "      <th>FL_W61</th>\n",
       "    </tr>\n",
       "  </thead>\n",
       "  <tbody>\n",
       "    <tr>\n",
       "      <th>0</th>\n",
       "      <td>0100005</td>\n",
       "      <td>01504840100000</td>\n",
       "      <td>1</td>\n",
       "      <td>1095</td>\n",
       "      <td>N</td>\n",
       "      <td>10700</td>\n",
       "      <td>ALBERTVILLE CITY SCHOOL DISTRICT</td>\n",
       "      <td>Alabama</td>\n",
       "      <td>AL</td>\n",
       "      <td>3</td>\n",
       "      <td>...</td>\n",
       "      <td>R</td>\n",
       "      <td>R</td>\n",
       "      <td>R</td>\n",
       "      <td>R</td>\n",
       "      <td>R</td>\n",
       "      <td>R</td>\n",
       "      <td>R</td>\n",
       "      <td>R</td>\n",
       "      <td>R</td>\n",
       "      <td>R</td>\n",
       "    </tr>\n",
       "    <tr>\n",
       "      <th>1</th>\n",
       "      <td>0100006</td>\n",
       "      <td>01504800100000</td>\n",
       "      <td>1</td>\n",
       "      <td>1095</td>\n",
       "      <td>N</td>\n",
       "      <td>10700</td>\n",
       "      <td>MARSHALL COUNTY SCHOOL DISTRICT</td>\n",
       "      <td>Alabama</td>\n",
       "      <td>AL</td>\n",
       "      <td>3</td>\n",
       "      <td>...</td>\n",
       "      <td>R</td>\n",
       "      <td>R</td>\n",
       "      <td>R</td>\n",
       "      <td>R</td>\n",
       "      <td>R</td>\n",
       "      <td>R</td>\n",
       "      <td>R</td>\n",
       "      <td>R</td>\n",
       "      <td>R</td>\n",
       "      <td>R</td>\n",
       "    </tr>\n",
       "    <tr>\n",
       "      <th>2</th>\n",
       "      <td>0100007</td>\n",
       "      <td>01503740100000</td>\n",
       "      <td>1</td>\n",
       "      <td>1073</td>\n",
       "      <td>142</td>\n",
       "      <td>13820</td>\n",
       "      <td>HOOVER CITY SCHOOL DISTRICT</td>\n",
       "      <td>Alabama</td>\n",
       "      <td>AL</td>\n",
       "      <td>3</td>\n",
       "      <td>...</td>\n",
       "      <td>R</td>\n",
       "      <td>R</td>\n",
       "      <td>R</td>\n",
       "      <td>R</td>\n",
       "      <td>R</td>\n",
       "      <td>R</td>\n",
       "      <td>R</td>\n",
       "      <td>R</td>\n",
       "      <td>R</td>\n",
       "      <td>R</td>\n",
       "    </tr>\n",
       "    <tr>\n",
       "      <th>3</th>\n",
       "      <td>0100008</td>\n",
       "      <td>01504530100000</td>\n",
       "      <td>1</td>\n",
       "      <td>1089</td>\n",
       "      <td>290</td>\n",
       "      <td>26620</td>\n",
       "      <td>MADISON CITY SCHOOL DISTRICT</td>\n",
       "      <td>Alabama</td>\n",
       "      <td>AL</td>\n",
       "      <td>3</td>\n",
       "      <td>...</td>\n",
       "      <td>R</td>\n",
       "      <td>R</td>\n",
       "      <td>R</td>\n",
       "      <td>R</td>\n",
       "      <td>R</td>\n",
       "      <td>R</td>\n",
       "      <td>R</td>\n",
       "      <td>R</td>\n",
       "      <td>R</td>\n",
       "      <td>R</td>\n",
       "    </tr>\n",
       "    <tr>\n",
       "      <th>4</th>\n",
       "      <td>0100011</td>\n",
       "      <td>01503710100000</td>\n",
       "      <td>1</td>\n",
       "      <td>1073</td>\n",
       "      <td>142</td>\n",
       "      <td>13820</td>\n",
       "      <td>LEEDS CITY SCHOOL DISTRICT</td>\n",
       "      <td>Alabama</td>\n",
       "      <td>AL</td>\n",
       "      <td>3</td>\n",
       "      <td>...</td>\n",
       "      <td>R</td>\n",
       "      <td>R</td>\n",
       "      <td>R</td>\n",
       "      <td>R</td>\n",
       "      <td>R</td>\n",
       "      <td>R</td>\n",
       "      <td>R</td>\n",
       "      <td>R</td>\n",
       "      <td>R</td>\n",
       "      <td>R</td>\n",
       "    </tr>\n",
       "  </tbody>\n",
       "</table>\n",
       "<p>5 rows × 250 columns</p>\n",
       "</div>"
      ],
      "text/plain": [
       "     LEAID        CENSUSID  FIPST  CONUM  CSA   CBSA  \\\n",
       "0  0100005  01504840100000      1   1095    N  10700   \n",
       "1  0100006  01504800100000      1   1095    N  10700   \n",
       "2  0100007  01503740100000      1   1073  142  13820   \n",
       "3  0100008  01504530100000      1   1089  290  26620   \n",
       "4  0100011  01503710100000      1   1073  142  13820   \n",
       "\n",
       "                               NAME   STNAME STABBR  SCHLEV   ...   FL_V93  \\\n",
       "0  ALBERTVILLE CITY SCHOOL DISTRICT  Alabama     AL       3   ...        R   \n",
       "1   MARSHALL COUNTY SCHOOL DISTRICT  Alabama     AL       3   ...        R   \n",
       "2       HOOVER CITY SCHOOL DISTRICT  Alabama     AL       3   ...        R   \n",
       "3      MADISON CITY SCHOOL DISTRICT  Alabama     AL       3   ...        R   \n",
       "4        LEEDS CITY SCHOOL DISTRICT  Alabama     AL       3   ...        R   \n",
       "\n",
       "   FL_19H  FL_21F  FL_31F FL_41F FL_61V  FL_66V  FL_W01  FL_W31  FL_W61  \n",
       "0       R       R       R      R      R       R       R       R       R  \n",
       "1       R       R       R      R      R       R       R       R       R  \n",
       "2       R       R       R      R      R       R       R       R       R  \n",
       "3       R       R       R      R      R       R       R       R       R  \n",
       "4       R       R       R      R      R       R       R       R       R  \n",
       "\n",
       "[5 rows x 250 columns]"
      ]
     },
     "execution_count": 7,
     "metadata": {},
     "output_type": "execute_result"
    }
   ],
   "source": [
    "fiscal.head()"
   ]
  },
  {
   "cell_type": "code",
   "execution_count": 1,
   "metadata": {},
   "outputs": [],
   "source": [
    "#fiscal.info()"
   ]
  },
  {
   "cell_type": "code",
   "execution_count": 9,
   "metadata": {},
   "outputs": [
    {
     "data": {
      "text/html": [
       "<div>\n",
       "<style scoped>\n",
       "    .dataframe tbody tr th:only-of-type {\n",
       "        vertical-align: middle;\n",
       "    }\n",
       "\n",
       "    .dataframe tbody tr th {\n",
       "        vertical-align: top;\n",
       "    }\n",
       "\n",
       "    .dataframe thead th {\n",
       "        text-align: right;\n",
       "    }\n",
       "</style>\n",
       "<table border=\"1\" class=\"dataframe\">\n",
       "  <thead>\n",
       "    <tr style=\"text-align: right;\">\n",
       "      <th></th>\n",
       "      <th>survyear</th>\n",
       "      <th>fipst</th>\n",
       "      <th>leaid</th>\n",
       "      <th>totd912</th>\n",
       "      <th>ebs912</th>\n",
       "      <th>drp912</th>\n",
       "      <th>totdpl</th>\n",
       "      <th>afgeb</th>\n",
       "      <th>afgr</th>\n",
       "      <th>totohc</th>\n",
       "    </tr>\n",
       "  </thead>\n",
       "  <tbody>\n",
       "    <tr>\n",
       "      <th>0</th>\n",
       "      <td>2007-08</td>\n",
       "      <td>1</td>\n",
       "      <td>0100002</td>\n",
       "      <td>0</td>\n",
       "      <td>47</td>\n",
       "      <td>0.0</td>\n",
       "      <td>-1</td>\n",
       "      <td>14</td>\n",
       "      <td>-1.0</td>\n",
       "      <td>-1</td>\n",
       "    </tr>\n",
       "    <tr>\n",
       "      <th>1</th>\n",
       "      <td>2007-08</td>\n",
       "      <td>1</td>\n",
       "      <td>0100005</td>\n",
       "      <td>29</td>\n",
       "      <td>939</td>\n",
       "      <td>3.1</td>\n",
       "      <td>172</td>\n",
       "      <td>247</td>\n",
       "      <td>69.6</td>\n",
       "      <td>5</td>\n",
       "    </tr>\n",
       "    <tr>\n",
       "      <th>2</th>\n",
       "      <td>2007-08</td>\n",
       "      <td>1</td>\n",
       "      <td>0100006</td>\n",
       "      <td>41</td>\n",
       "      <td>1612</td>\n",
       "      <td>2.5</td>\n",
       "      <td>276</td>\n",
       "      <td>450</td>\n",
       "      <td>61.3</td>\n",
       "      <td>13</td>\n",
       "    </tr>\n",
       "    <tr>\n",
       "      <th>3</th>\n",
       "      <td>2007-08</td>\n",
       "      <td>1</td>\n",
       "      <td>0100007</td>\n",
       "      <td>38</td>\n",
       "      <td>3817</td>\n",
       "      <td>1.0</td>\n",
       "      <td>899</td>\n",
       "      <td>978</td>\n",
       "      <td>91.9</td>\n",
       "      <td>5</td>\n",
       "    </tr>\n",
       "    <tr>\n",
       "      <th>4</th>\n",
       "      <td>2007-08</td>\n",
       "      <td>1</td>\n",
       "      <td>0100008</td>\n",
       "      <td>27</td>\n",
       "      <td>2715</td>\n",
       "      <td>1.0</td>\n",
       "      <td>624</td>\n",
       "      <td>584</td>\n",
       "      <td>100.0</td>\n",
       "      <td>9</td>\n",
       "    </tr>\n",
       "  </tbody>\n",
       "</table>\n",
       "</div>"
      ],
      "text/plain": [
       "  survyear  fipst    leaid  totd912  ebs912  drp912  totdpl  afgeb   afgr  \\\n",
       "0  2007-08      1  0100002        0      47     0.0      -1     14   -1.0   \n",
       "1  2007-08      1  0100005       29     939     3.1     172    247   69.6   \n",
       "2  2007-08      1  0100006       41    1612     2.5     276    450   61.3   \n",
       "3  2007-08      1  0100007       38    3817     1.0     899    978   91.9   \n",
       "4  2007-08      1  0100008       27    2715     1.0     624    584  100.0   \n",
       "\n",
       "   totohc  \n",
       "0      -1  \n",
       "1       5  \n",
       "2      13  \n",
       "3       5  \n",
       "4       9  "
      ]
     },
     "execution_count": 9,
     "metadata": {},
     "output_type": "execute_result"
    }
   ],
   "source": [
    "dropout.head()"
   ]
  },
  {
   "cell_type": "code",
   "execution_count": 2,
   "metadata": {},
   "outputs": [],
   "source": [
    "#dropout.info()"
   ]
  },
  {
   "cell_type": "markdown",
   "metadata": {},
   "source": [
    "## b. Check duplicated data for each dataframe"
   ]
  },
  {
   "cell_type": "code",
   "execution_count": 11,
   "metadata": {},
   "outputs": [
    {
     "data": {
      "text/plain": [
       "16453"
      ]
     },
     "execution_count": 11,
     "metadata": {},
     "output_type": "execute_result"
    }
   ],
   "source": [
    "len(fiscal['LEAID'])"
   ]
  },
  {
   "cell_type": "code",
   "execution_count": 12,
   "metadata": {},
   "outputs": [
    {
     "data": {
      "text/plain": [
       "0"
      ]
     },
     "execution_count": 12,
     "metadata": {},
     "output_type": "execute_result"
    }
   ],
   "source": [
    "len(fiscal[fiscal['LEAID'].duplicated() == True])"
   ]
  },
  {
   "cell_type": "code",
   "execution_count": 13,
   "metadata": {},
   "outputs": [
    {
     "data": {
      "text/plain": [
       "18090"
      ]
     },
     "execution_count": 13,
     "metadata": {},
     "output_type": "execute_result"
    }
   ],
   "source": [
    "len(dropout['leaid'])"
   ]
  },
  {
   "cell_type": "code",
   "execution_count": 14,
   "metadata": {},
   "outputs": [
    {
     "data": {
      "text/plain": [
       "0"
      ]
     },
     "execution_count": 14,
     "metadata": {},
     "output_type": "execute_result"
    }
   ],
   "source": [
    "len(dropout[dropout['leaid'].duplicated() == True])"
   ]
  },
  {
   "cell_type": "code",
   "execution_count": 15,
   "metadata": {},
   "outputs": [],
   "source": [
    "# only run this for year 2008 becuase the labels is in lowercase\n",
    "dropout['LEAID'] = dropout['leaid']\n",
    "dropout['AFGR'] = dropout['afgr']"
   ]
  },
  {
   "cell_type": "markdown",
   "metadata": {},
   "source": [
    "## c. Check number of same LEAID for both dataframe\n",
    "LEAID is used to join the fiscal table and the graduation table"
   ]
  },
  {
   "cell_type": "code",
   "execution_count": 16,
   "metadata": {},
   "outputs": [
    {
     "data": {
      "text/plain": [
       "16408"
      ]
     },
     "execution_count": 16,
     "metadata": {},
     "output_type": "execute_result"
    }
   ],
   "source": [
    "len(set([i for i in fiscal['LEAID']]) & set([i for i in dropout['LEAID']]))"
   ]
  },
  {
   "cell_type": "markdown",
   "metadata": {},
   "source": [
    "# 2. Data cleaning\n",
    "---"
   ]
  },
  {
   "cell_type": "markdown",
   "metadata": {},
   "source": [
    "## a. Selection variables that are going to be used"
   ]
  },
  {
   "cell_type": "code",
   "execution_count": 17,
   "metadata": {},
   "outputs": [],
   "source": [
    "# ignore columns that are flags for the numerical variables\n",
    "# for year 2007， there is one more data column 'C18'\n",
    "fiscal = fiscal[['LEAID','SCHLEV','AGCHRT','CONUM','FIPST','YEAR','V33',\n",
    "                 'C14','C16','C17','C25',\n",
    "                 'C15','C18','C19','B11','B10','B12',\n",
    "                 'C20','C36','B13',\n",
    "                 'C01','C04','C10','C12','C38',\n",
    "                 'C05','C06','C07','C08','C09',\n",
    "                 'C11','C13','C35','C39',\n",
    "                 'T06','T09','T15','T40','T99','D11','D23',\n",
    "                 'A07','A08','A09','A11','A13','A15','A20','A40',\n",
    "                 'U11','U22','U30','U50','U97','C24',\n",
    "                 'Z33',\n",
    "                 'V11','V13','V15','V17','V21','V23','V37','V29',\n",
    "                 'Z34',\n",
    "                 'E13','TCURSSVC','E11','V60','V65',\n",
    "                 'TNONELSE',\n",
    "                 'TCAPOUT',\n",
    "                 'L12','M12','Q11','V91','V92',\n",
    "                 'V93',\n",
    "                 'I86'                 \n",
    "                ]]"
   ]
  },
  {
   "cell_type": "code",
   "execution_count": 3,
   "metadata": {},
   "outputs": [],
   "source": [
    "#fiscal.info()"
   ]
  },
  {
   "cell_type": "code",
   "execution_count": 19,
   "metadata": {},
   "outputs": [],
   "source": [
    "# There are no null value for both dataset."
   ]
  },
  {
   "cell_type": "markdown",
   "metadata": {},
   "source": [
    "## b. Deal with invalid value"
   ]
  },
  {
   "cell_type": "markdown",
   "metadata": {},
   "source": [
    "#### 1) almost every column has \"-2, -1, 0\",\n",
    "\n",
    "Take column \"V93\" for Example:\n",
    "\n",
    "-2 5.935222\n",
    "\n",
    "-1 3.490985\n",
    "\n",
    "0 32.690305\n",
    "\n",
    "We don't know the meaning of -1 and -2, and difference between -1 and -2\n",
    "\n",
    "Almost every column's \"-2, -1\" has the same proportion, 5.935222 and 3.490985\n",
    "\n",
    "-2 5.935222\n",
    "\n",
    "-1 3.490985\n",
    "\n",
    "**We asume that, this should be a series of effects which means drop rows where value = -1 or -2 for one column, could make every column clean.**\n",
    "\n",
    "But 0 means 0. There is no need to delete 0."
   ]
  },
  {
   "cell_type": "code",
   "execution_count": 4,
   "metadata": {},
   "outputs": [],
   "source": [
    "#for a in fiscal.columns:\n",
    "#    l = len(fiscal)\n",
    "#    print(fiscal.groupby(by=[a])[a].count()/l*100)"
   ]
  },
  {
   "cell_type": "markdown",
   "metadata": {},
   "source": [
    "#### 2) Missing, Nonapplicable, and Suppressed Data (interpretion for negative values)\n",
    "\n",
    "-1 In the F-33 data files, CCD identifies missing data by reporting the data value as “-1.”\n",
    "\n",
    "-3 CCD identifies suppressed membership data by reporting the membership as “-3” and the membership flag as a value of “A.”\n",
    "\n",
    "-9 CCD identifies submitted F-33 data that do not meet NCES data quality standards by reporting the data item as “-9” and data item flag as “A.”\n",
    "\n",
    "-2 CCD identifies nonapplicable data by reporting the data value as “-2” and the data item flag as a value of “N.”"
   ]
  },
  {
   "cell_type": "code",
   "execution_count": 21,
   "metadata": {},
   "outputs": [],
   "source": [
    "# get rid of all negative data in columns that they appear\n",
    "for a in ['T06','T09','T15','T40','T99','V33']:\n",
    "    fiscal = fiscal[fiscal[a] >= 0 ]"
   ]
  },
  {
   "cell_type": "markdown",
   "metadata": {},
   "source": [
    "Check if -1 or -2 still in one of the columns"
   ]
  },
  {
   "cell_type": "code",
   "execution_count": 5,
   "metadata": {
    "scrolled": true
   },
   "outputs": [],
   "source": [
    "#for a in fiscal.columns:\n",
    "#    l = len(fiscal)\n",
    "#    print(fiscal.groupby(by=[a])[a].count()/l*100)"
   ]
  },
  {
   "cell_type": "code",
   "execution_count": 23,
   "metadata": {},
   "outputs": [
    {
     "name": "stdout",
     "output_type": "stream",
     "text": [
      "12777\n"
     ]
    }
   ],
   "source": [
    "print(len(fiscal))"
   ]
  },
  {
   "cell_type": "code",
   "execution_count": 6,
   "metadata": {},
   "outputs": [],
   "source": [
    "# check which column has null value\n",
    "#fiscal.isnull().any()\n",
    "\n",
    "# fiscal.dropna(how = 'any',axis = 0)\n",
    "# fiscal.dropna(how = 'any',axis = 1)"
   ]
  },
  {
   "cell_type": "markdown",
   "metadata": {},
   "source": [
    "##### AGCHRT: \n",
    "\n",
    "AGENCY CHARTER CODE\n",
    "\n",
    "1 = All schools are charter schools\n",
    "\n",
    "2 = All schools are charter and noncharter schools\n",
    "\n",
    "3 = All associated schools are noncharter schools\n",
    "\n",
    "N = Not applicable or code could not be determined\n",
    "\n",
    "**Just treat them as categorical data, no need to change.**"
   ]
  },
  {
   "cell_type": "markdown",
   "metadata": {},
   "source": [
    "### C.Deal with graduation data"
   ]
  },
  {
   "cell_type": "code",
   "execution_count": 8,
   "metadata": {},
   "outputs": [],
   "source": [
    "#for a in dropout.columns:\n",
    "#   l = len(dropout)\n",
    "#    print(dropout.groupby(by=[a])[a].count()/l*100)"
   ]
  },
  {
   "cell_type": "code",
   "execution_count": 9,
   "metadata": {
    "scrolled": true
   },
   "outputs": [],
   "source": [
    "#dropout.head(5)"
   ]
  },
  {
   "cell_type": "markdown",
   "metadata": {},
   "source": [
    "#### 1) Dropout Data - Missing, Nonapplicable, and Suppressed Data from the data manual\n",
    "\n",
    "Data suppression has also been employed as part of the CCD disclosure mitigation plan. Dropout\n",
    "counts of 1, 2, or 3 have been suppressed. These counts are presented on the data file with the\n",
    "value -3. Dropout counts that are 1, 2, or 3 students less than the membership count have also\n",
    "been suppressed. These counts are represented on the file with the denoted value of -4. In order\n",
    "to prevent data users from backing out these suppressed values and determining the real value of\n",
    "the cell, complimentary suppression has also been employed. Any complementary suppression\n",
    "performed on the file is denoted with the same value as a missing count, -1. These suppressed\n",
    "cells are not distinguishable from the cells that contain missing values.\n",
    "\n",
    "Suppression has also been employed to protect against the individual disclosure of anyone that\n",
    "did not receive a regular high school diploma following their 12th grade year. These, and the\n",
    "counter-suppressions made to protect the primary suppressions, are denoted as -1 on the data file.\n",
    "These suppressed cells are not distinguishable from cells that contain missing values. \n",
    "\n",
    "0: A zero value represents a report of no occurrences of a data element. A value was\n",
    "expected and measured, but zero cases were found in the category. (For example, a K–12\n",
    "district having no 12th-graders would report “0.”) \n",
    "\n",
    "M (or -1 for numeric values): A value of M (or -1) indicates that data are missing. A\n",
    "value was expected, but none was measured. (For example, a district that has at least one\n",
    "12th-grader but cannot measure the number of 12th-graders would report “-1.”). This value\n",
    "also denotes a suppressed high school diploma count or dropout count. \n",
    "\n",
    "N (or -2 for numeric values): A value of N (or -2) indicates that data are not applicable. A\n",
    "value was neither expected nor measured. (For example, an elementary school district\n",
    "would report “-2” for 12th-graders.)\n",
    "\n",
    "-3: A value of -3 indicates a dropout count of 1, 2, or 3. These cells have been suppressed\n",
    "such that the true value of the cell cannot be identified. All cells with a value of -3 have a\n",
    "plausible value of 1, 2, or 3. \n",
    "\n",
    "-4: A value of -4 indicates a dropout count that is equal to or exceeds the 3 less than the\n",
    "membership count. These cells have been suppressed such that the true value of the cell\n",
    "cannot be identified. All cells with a value of -4 have a plausible value of 3 less than the\n",
    "membership. "
   ]
  },
  {
   "cell_type": "markdown",
   "metadata": {},
   "source": [
    "#### 2) Look at the graduation rate column\n",
    "\n",
    "AFGR is more clean than DRP912, there only 3 negative values.\n",
    "\n",
    "**For AFGR:**\n",
    "\n",
    "-9.0       1.090081\n",
    "\n",
    "-2.0      35.066978\n",
    "\n",
    "-1.0       5.314822\n",
    "\n",
    "**For DRP912:**\n",
    "    \n",
    "-9.0      4.051196\n",
    "\n",
    "-4.0      2.717067\n",
    "\n",
    "-3.0     50.111177\n",
    "\n",
    "-2.0     28.472260\n",
    "\n",
    "-1.0      2.467596\n",
    "\n",
    "**So We are tring to use AFGR. This will remove less instances.**"
   ]
  },
  {
   "cell_type": "code",
   "execution_count": 27,
   "metadata": {},
   "outputs": [],
   "source": [
    "# remove all negative numbers\n",
    "dropout = dropout[['LEAID','AFGR']]\n",
    "dropout = dropout[dropout['AFGR'] != -9]\n",
    "dropout = dropout[dropout['AFGR'] != -2]\n",
    "dropout = dropout[dropout['AFGR'] != -1]"
   ]
  },
  {
   "cell_type": "code",
   "execution_count": 28,
   "metadata": {},
   "outputs": [
    {
     "data": {
      "text/plain": [
       "10735"
      ]
     },
     "execution_count": 28,
     "metadata": {},
     "output_type": "execute_result"
    }
   ],
   "source": [
    "len(dropout)"
   ]
  },
  {
   "cell_type": "code",
   "execution_count": 10,
   "metadata": {},
   "outputs": [],
   "source": [
    "#for a in dropout.columns:\n",
    "#    l = len(dropout)\n",
    "#    print(dropout.groupby(by=[a])[a].count()/l*100)"
   ]
  },
  {
   "cell_type": "markdown",
   "metadata": {},
   "source": [
    "We've got a clean AFGR column, just forget the others now."
   ]
  },
  {
   "cell_type": "code",
   "execution_count": 11,
   "metadata": {},
   "outputs": [],
   "source": [
    "#dropout.info()"
   ]
  },
  {
   "cell_type": "code",
   "execution_count": 12,
   "metadata": {},
   "outputs": [],
   "source": [
    "#fiscal.info()"
   ]
  },
  {
   "cell_type": "markdown",
   "metadata": {},
   "source": [
    "### D. Merge fiscal and graduation table based on 'LEAID'"
   ]
  },
  {
   "cell_type": "code",
   "execution_count": 32,
   "metadata": {},
   "outputs": [],
   "source": [
    "data = pd.merge(fiscal, dropout, how='inner', on=\"LEAID\", suffixes=('_f', '_d'))"
   ]
  },
  {
   "cell_type": "code",
   "execution_count": 33,
   "metadata": {},
   "outputs": [
    {
     "data": {
      "text/html": [
       "<div>\n",
       "<style scoped>\n",
       "    .dataframe tbody tr th:only-of-type {\n",
       "        vertical-align: middle;\n",
       "    }\n",
       "\n",
       "    .dataframe tbody tr th {\n",
       "        vertical-align: top;\n",
       "    }\n",
       "\n",
       "    .dataframe thead th {\n",
       "        text-align: right;\n",
       "    }\n",
       "</style>\n",
       "<table border=\"1\" class=\"dataframe\">\n",
       "  <thead>\n",
       "    <tr style=\"text-align: right;\">\n",
       "      <th></th>\n",
       "      <th>LEAID</th>\n",
       "      <th>SCHLEV</th>\n",
       "      <th>AGCHRT</th>\n",
       "      <th>CONUM</th>\n",
       "      <th>FIPST</th>\n",
       "      <th>YEAR</th>\n",
       "      <th>V33</th>\n",
       "      <th>C14</th>\n",
       "      <th>C16</th>\n",
       "      <th>C17</th>\n",
       "      <th>...</th>\n",
       "      <th>TNONELSE</th>\n",
       "      <th>TCAPOUT</th>\n",
       "      <th>L12</th>\n",
       "      <th>M12</th>\n",
       "      <th>Q11</th>\n",
       "      <th>V91</th>\n",
       "      <th>V92</th>\n",
       "      <th>V93</th>\n",
       "      <th>I86</th>\n",
       "      <th>AFGR</th>\n",
       "    </tr>\n",
       "  </thead>\n",
       "  <tbody>\n",
       "    <tr>\n",
       "      <th>0</th>\n",
       "      <td>0100005</td>\n",
       "      <td>3</td>\n",
       "      <td>3</td>\n",
       "      <td>1095</td>\n",
       "      <td>1</td>\n",
       "      <td>8</td>\n",
       "      <td>3790</td>\n",
       "      <td>1053000</td>\n",
       "      <td>163000</td>\n",
       "      <td>65000</td>\n",
       "      <td>...</td>\n",
       "      <td>736000</td>\n",
       "      <td>12082000</td>\n",
       "      <td>0</td>\n",
       "      <td>0</td>\n",
       "      <td>70000</td>\n",
       "      <td>0</td>\n",
       "      <td>0</td>\n",
       "      <td>240000</td>\n",
       "      <td>413000</td>\n",
       "      <td>69.6</td>\n",
       "    </tr>\n",
       "    <tr>\n",
       "      <th>1</th>\n",
       "      <td>0100006</td>\n",
       "      <td>3</td>\n",
       "      <td>3</td>\n",
       "      <td>1095</td>\n",
       "      <td>1</td>\n",
       "      <td>8</td>\n",
       "      <td>5647</td>\n",
       "      <td>2288000</td>\n",
       "      <td>424000</td>\n",
       "      <td>558000</td>\n",
       "      <td>...</td>\n",
       "      <td>1491000</td>\n",
       "      <td>2443000</td>\n",
       "      <td>0</td>\n",
       "      <td>0</td>\n",
       "      <td>8000</td>\n",
       "      <td>0</td>\n",
       "      <td>0</td>\n",
       "      <td>555000</td>\n",
       "      <td>746000</td>\n",
       "      <td>61.3</td>\n",
       "    </tr>\n",
       "    <tr>\n",
       "      <th>2</th>\n",
       "      <td>0100007</td>\n",
       "      <td>3</td>\n",
       "      <td>3</td>\n",
       "      <td>1073</td>\n",
       "      <td>1</td>\n",
       "      <td>8</td>\n",
       "      <td>12479</td>\n",
       "      <td>165000</td>\n",
       "      <td>165000</td>\n",
       "      <td>21000</td>\n",
       "      <td>...</td>\n",
       "      <td>4709000</td>\n",
       "      <td>5784000</td>\n",
       "      <td>0</td>\n",
       "      <td>0</td>\n",
       "      <td>99000</td>\n",
       "      <td>0</td>\n",
       "      <td>0</td>\n",
       "      <td>1876000</td>\n",
       "      <td>9415000</td>\n",
       "      <td>91.9</td>\n",
       "    </tr>\n",
       "    <tr>\n",
       "      <th>3</th>\n",
       "      <td>0100008</td>\n",
       "      <td>3</td>\n",
       "      <td>3</td>\n",
       "      <td>1089</td>\n",
       "      <td>1</td>\n",
       "      <td>8</td>\n",
       "      <td>8298</td>\n",
       "      <td>589000</td>\n",
       "      <td>155000</td>\n",
       "      <td>16000</td>\n",
       "      <td>...</td>\n",
       "      <td>1245000</td>\n",
       "      <td>8347000</td>\n",
       "      <td>0</td>\n",
       "      <td>0</td>\n",
       "      <td>124000</td>\n",
       "      <td>8000</td>\n",
       "      <td>0</td>\n",
       "      <td>798000</td>\n",
       "      <td>3316000</td>\n",
       "      <td>100.0</td>\n",
       "    </tr>\n",
       "    <tr>\n",
       "      <th>4</th>\n",
       "      <td>0100011</td>\n",
       "      <td>3</td>\n",
       "      <td>3</td>\n",
       "      <td>1073</td>\n",
       "      <td>1</td>\n",
       "      <td>8</td>\n",
       "      <td>1406</td>\n",
       "      <td>344000</td>\n",
       "      <td>100000</td>\n",
       "      <td>6000</td>\n",
       "      <td>...</td>\n",
       "      <td>138000</td>\n",
       "      <td>1575000</td>\n",
       "      <td>0</td>\n",
       "      <td>0</td>\n",
       "      <td>13000</td>\n",
       "      <td>0</td>\n",
       "      <td>0</td>\n",
       "      <td>84000</td>\n",
       "      <td>182000</td>\n",
       "      <td>67.3</td>\n",
       "    </tr>\n",
       "  </tbody>\n",
       "</table>\n",
       "<p>5 rows × 80 columns</p>\n",
       "</div>"
      ],
      "text/plain": [
       "     LEAID  SCHLEV AGCHRT  CONUM  FIPST  YEAR    V33      C14     C16     C17  \\\n",
       "0  0100005       3      3   1095      1     8   3790  1053000  163000   65000   \n",
       "1  0100006       3      3   1095      1     8   5647  2288000  424000  558000   \n",
       "2  0100007       3      3   1073      1     8  12479   165000  165000   21000   \n",
       "3  0100008       3      3   1089      1     8   8298   589000  155000   16000   \n",
       "4  0100011       3      3   1073      1     8   1406   344000  100000    6000   \n",
       "\n",
       "   ...    TNONELSE   TCAPOUT  L12  M12     Q11   V91  V92      V93      I86  \\\n",
       "0  ...      736000  12082000    0    0   70000     0    0   240000   413000   \n",
       "1  ...     1491000   2443000    0    0    8000     0    0   555000   746000   \n",
       "2  ...     4709000   5784000    0    0   99000     0    0  1876000  9415000   \n",
       "3  ...     1245000   8347000    0    0  124000  8000    0   798000  3316000   \n",
       "4  ...      138000   1575000    0    0   13000     0    0    84000   182000   \n",
       "\n",
       "    AFGR  \n",
       "0   69.6  \n",
       "1   61.3  \n",
       "2   91.9  \n",
       "3  100.0  \n",
       "4   67.3  \n",
       "\n",
       "[5 rows x 80 columns]"
      ]
     },
     "execution_count": 33,
     "metadata": {},
     "output_type": "execute_result"
    }
   ],
   "source": [
    "data.head()"
   ]
  },
  {
   "cell_type": "code",
   "execution_count": 34,
   "metadata": {},
   "outputs": [
    {
     "data": {
      "text/plain": [
       "9527"
      ]
     },
     "execution_count": 34,
     "metadata": {},
     "output_type": "execute_result"
    }
   ],
   "source": [
    "len(data)"
   ]
  },
  {
   "cell_type": "code",
   "execution_count": 13,
   "metadata": {},
   "outputs": [],
   "source": [
    "# look at the \n",
    "#data.info()"
   ]
  },
  {
   "cell_type": "code",
   "execution_count": 14,
   "metadata": {},
   "outputs": [],
   "source": [
    "# Look at data distribution\n",
    "#for a in data.columns:\n",
    "#    l = len(data)\n",
    "#    print(data.groupby(by=[a])[a].count()/l*100)"
   ]
  },
  {
   "cell_type": "markdown",
   "metadata": {},
   "source": [
    "# 3. Combine variables based on explanation from the data manual\n",
    "---"
   ]
  },
  {
   "cell_type": "code",
   "execution_count": 37,
   "metadata": {},
   "outputs": [
    {
     "data": {
      "text/html": [
       "<div>\n",
       "<style scoped>\n",
       "    .dataframe tbody tr th:only-of-type {\n",
       "        vertical-align: middle;\n",
       "    }\n",
       "\n",
       "    .dataframe tbody tr th {\n",
       "        vertical-align: top;\n",
       "    }\n",
       "\n",
       "    .dataframe thead th {\n",
       "        text-align: right;\n",
       "    }\n",
       "</style>\n",
       "<table border=\"1\" class=\"dataframe\">\n",
       "  <thead>\n",
       "    <tr style=\"text-align: right;\">\n",
       "      <th></th>\n",
       "      <th>LEAID</th>\n",
       "      <th>SCHLEV</th>\n",
       "      <th>AGCHRT</th>\n",
       "      <th>CONUM</th>\n",
       "      <th>FIPST</th>\n",
       "      <th>YEAR</th>\n",
       "      <th>V33</th>\n",
       "      <th>C14</th>\n",
       "      <th>C16</th>\n",
       "      <th>C17</th>\n",
       "      <th>...</th>\n",
       "      <th>TNONELSE</th>\n",
       "      <th>TCAPOUT</th>\n",
       "      <th>L12</th>\n",
       "      <th>M12</th>\n",
       "      <th>Q11</th>\n",
       "      <th>V91</th>\n",
       "      <th>V92</th>\n",
       "      <th>V93</th>\n",
       "      <th>I86</th>\n",
       "      <th>AFGR</th>\n",
       "    </tr>\n",
       "  </thead>\n",
       "  <tbody>\n",
       "    <tr>\n",
       "      <th>0</th>\n",
       "      <td>0100005</td>\n",
       "      <td>3</td>\n",
       "      <td>3</td>\n",
       "      <td>1095</td>\n",
       "      <td>1</td>\n",
       "      <td>8</td>\n",
       "      <td>3790</td>\n",
       "      <td>1053000</td>\n",
       "      <td>163000</td>\n",
       "      <td>65000</td>\n",
       "      <td>...</td>\n",
       "      <td>736000</td>\n",
       "      <td>12082000</td>\n",
       "      <td>0</td>\n",
       "      <td>0</td>\n",
       "      <td>70000</td>\n",
       "      <td>0</td>\n",
       "      <td>0</td>\n",
       "      <td>240000</td>\n",
       "      <td>413000</td>\n",
       "      <td>69.6</td>\n",
       "    </tr>\n",
       "    <tr>\n",
       "      <th>1</th>\n",
       "      <td>0100006</td>\n",
       "      <td>3</td>\n",
       "      <td>3</td>\n",
       "      <td>1095</td>\n",
       "      <td>1</td>\n",
       "      <td>8</td>\n",
       "      <td>5647</td>\n",
       "      <td>2288000</td>\n",
       "      <td>424000</td>\n",
       "      <td>558000</td>\n",
       "      <td>...</td>\n",
       "      <td>1491000</td>\n",
       "      <td>2443000</td>\n",
       "      <td>0</td>\n",
       "      <td>0</td>\n",
       "      <td>8000</td>\n",
       "      <td>0</td>\n",
       "      <td>0</td>\n",
       "      <td>555000</td>\n",
       "      <td>746000</td>\n",
       "      <td>61.3</td>\n",
       "    </tr>\n",
       "    <tr>\n",
       "      <th>2</th>\n",
       "      <td>0100007</td>\n",
       "      <td>3</td>\n",
       "      <td>3</td>\n",
       "      <td>1073</td>\n",
       "      <td>1</td>\n",
       "      <td>8</td>\n",
       "      <td>12479</td>\n",
       "      <td>165000</td>\n",
       "      <td>165000</td>\n",
       "      <td>21000</td>\n",
       "      <td>...</td>\n",
       "      <td>4709000</td>\n",
       "      <td>5784000</td>\n",
       "      <td>0</td>\n",
       "      <td>0</td>\n",
       "      <td>99000</td>\n",
       "      <td>0</td>\n",
       "      <td>0</td>\n",
       "      <td>1876000</td>\n",
       "      <td>9415000</td>\n",
       "      <td>91.9</td>\n",
       "    </tr>\n",
       "    <tr>\n",
       "      <th>3</th>\n",
       "      <td>0100008</td>\n",
       "      <td>3</td>\n",
       "      <td>3</td>\n",
       "      <td>1089</td>\n",
       "      <td>1</td>\n",
       "      <td>8</td>\n",
       "      <td>8298</td>\n",
       "      <td>589000</td>\n",
       "      <td>155000</td>\n",
       "      <td>16000</td>\n",
       "      <td>...</td>\n",
       "      <td>1245000</td>\n",
       "      <td>8347000</td>\n",
       "      <td>0</td>\n",
       "      <td>0</td>\n",
       "      <td>124000</td>\n",
       "      <td>8000</td>\n",
       "      <td>0</td>\n",
       "      <td>798000</td>\n",
       "      <td>3316000</td>\n",
       "      <td>100.0</td>\n",
       "    </tr>\n",
       "    <tr>\n",
       "      <th>4</th>\n",
       "      <td>0100011</td>\n",
       "      <td>3</td>\n",
       "      <td>3</td>\n",
       "      <td>1073</td>\n",
       "      <td>1</td>\n",
       "      <td>8</td>\n",
       "      <td>1406</td>\n",
       "      <td>344000</td>\n",
       "      <td>100000</td>\n",
       "      <td>6000</td>\n",
       "      <td>...</td>\n",
       "      <td>138000</td>\n",
       "      <td>1575000</td>\n",
       "      <td>0</td>\n",
       "      <td>0</td>\n",
       "      <td>13000</td>\n",
       "      <td>0</td>\n",
       "      <td>0</td>\n",
       "      <td>84000</td>\n",
       "      <td>182000</td>\n",
       "      <td>67.3</td>\n",
       "    </tr>\n",
       "  </tbody>\n",
       "</table>\n",
       "<p>5 rows × 80 columns</p>\n",
       "</div>"
      ],
      "text/plain": [
       "     LEAID  SCHLEV AGCHRT  CONUM  FIPST  YEAR    V33      C14     C16     C17  \\\n",
       "0  0100005       3      3   1095      1     8   3790  1053000  163000   65000   \n",
       "1  0100006       3      3   1095      1     8   5647  2288000  424000  558000   \n",
       "2  0100007       3      3   1073      1     8  12479   165000  165000   21000   \n",
       "3  0100008       3      3   1089      1     8   8298   589000  155000   16000   \n",
       "4  0100011       3      3   1073      1     8   1406   344000  100000    6000   \n",
       "\n",
       "   ...    TNONELSE   TCAPOUT  L12  M12     Q11   V91  V92      V93      I86  \\\n",
       "0  ...      736000  12082000    0    0   70000     0    0   240000   413000   \n",
       "1  ...     1491000   2443000    0    0    8000     0    0   555000   746000   \n",
       "2  ...     4709000   5784000    0    0   99000     0    0  1876000  9415000   \n",
       "3  ...     1245000   8347000    0    0  124000  8000    0   798000  3316000   \n",
       "4  ...      138000   1575000    0    0   13000     0    0    84000   182000   \n",
       "\n",
       "    AFGR  \n",
       "0   69.6  \n",
       "1   61.3  \n",
       "2   91.9  \n",
       "3  100.0  \n",
       "4   67.3  \n",
       "\n",
       "[5 rows x 80 columns]"
      ]
     },
     "execution_count": 37,
     "metadata": {},
     "output_type": "execute_result"
    }
   ],
   "source": [
    "data.head()"
   ]
  },
  {
   "cell_type": "code",
   "execution_count": 38,
   "metadata": {},
   "outputs": [],
   "source": [
    "# One more column 'C18' for year 2007, should be grouped into ‘Re_F_Special’\n",
    "data['Re_F_Basic'] = data['C14'] + data['C16'] + data['C17'] + data['C25']\n",
    "data['Re_F_Special'] = data['C15'] + data['C19'] + data['B11'] + data['B10'] + data['B12']\n",
    "data['Re_F_Other'] = data['C20'] + data['C36'] + data['B13']\n",
    "data['Re_S_Basic'] = data['C01'] + data['C04'] + data['C10'] + data['C12'] + data['C38']\n",
    "data['Re_S_Special'] = data['C05'] + data['C06'] + data['C07'] + data['C08'] + data['C09']\n",
    "data['Re_S_Other'] = data['C11'] + data['C13'] + data['C35'] + data['C39']\n",
    "data['Re_L_Gov'] = data['T06'] + data['T09'] + data['T15'] + data['T40'] + data['T99'] + data['D11'] + data['D23']\n",
    "data['Re_L_fee'] = data['A07'] + data['A08'] + data['A09'] + data['A11'] + data['A13'] + data['A15'] + data['A20'] + data['A40']\n",
    "data['Re_L_Other'] = data['U11'] + data['U22'] + data['U30'] + data['U50'] + data['U97'] + data['C24']\n",
    "data['Ex_Teacher_Inst'] = data['Z33']\n",
    "data['Ex_Teacher_Supp'] = data['V11'] + data['V13'] + data['V15'] + data['V17'] + data['V21'] + data['V23'] + data['V37'] + data['V29'] \n",
    "data['Ex_Employ'] = data['Z34']\n",
    "data['Ex_Edu'] = data['E13'] + data['TCURSSVC'] + data['E11'] + data['V60'] + data['V65']\n",
    "data['Ex_Community'] = data['TNONELSE']\n",
    "data['Ex_Capital'] = data['TCAPOUT']\n",
    "data['Ex_Payment'] = data['L12'] + data['M12'] + data['Q11'] + data['V91'] + data['V92']\n",
    "data['Ex_Textbook'] = data['V93']\n",
    "data['Ex_Interest'] = data['I86']"
   ]
  },
  {
   "cell_type": "code",
   "execution_count": 39,
   "metadata": {},
   "outputs": [],
   "source": [
    "data = data[['LEAID','SCHLEV','AGCHRT','CONUM','FIPST','YEAR','V33',\n",
    "             'Re_F_Basic','Re_F_Special','Re_F_Other',\n",
    "             'Re_S_Basic','Re_S_Special','Re_S_Other',\n",
    "             'Re_L_Gov','Re_L_fee','Re_L_Other',\n",
    "             'Ex_Teacher_Inst','Ex_Teacher_Supp','Ex_Employ',\n",
    "             'Ex_Edu','Ex_Community','Ex_Capital','Ex_Payment',\n",
    "             'Ex_Textbook','Ex_Interest',\n",
    "             'AFGR'\n",
    "            ]]"
   ]
  },
  {
   "cell_type": "code",
   "execution_count": 15,
   "metadata": {},
   "outputs": [],
   "source": [
    "#data.info()"
   ]
  },
  {
   "cell_type": "code",
   "execution_count": 41,
   "metadata": {},
   "outputs": [
    {
     "data": {
      "text/html": [
       "<div>\n",
       "<style scoped>\n",
       "    .dataframe tbody tr th:only-of-type {\n",
       "        vertical-align: middle;\n",
       "    }\n",
       "\n",
       "    .dataframe tbody tr th {\n",
       "        vertical-align: top;\n",
       "    }\n",
       "\n",
       "    .dataframe thead th {\n",
       "        text-align: right;\n",
       "    }\n",
       "</style>\n",
       "<table border=\"1\" class=\"dataframe\">\n",
       "  <thead>\n",
       "    <tr style=\"text-align: right;\">\n",
       "      <th></th>\n",
       "      <th>LEAID</th>\n",
       "      <th>SCHLEV</th>\n",
       "      <th>AGCHRT</th>\n",
       "      <th>CONUM</th>\n",
       "      <th>FIPST</th>\n",
       "      <th>YEAR</th>\n",
       "      <th>V33</th>\n",
       "      <th>Re_F_Basic</th>\n",
       "      <th>Re_F_Special</th>\n",
       "      <th>Re_F_Other</th>\n",
       "      <th>...</th>\n",
       "      <th>Ex_Teacher_Inst</th>\n",
       "      <th>Ex_Teacher_Supp</th>\n",
       "      <th>Ex_Employ</th>\n",
       "      <th>Ex_Edu</th>\n",
       "      <th>Ex_Community</th>\n",
       "      <th>Ex_Capital</th>\n",
       "      <th>Ex_Payment</th>\n",
       "      <th>Ex_Textbook</th>\n",
       "      <th>Ex_Interest</th>\n",
       "      <th>AFGR</th>\n",
       "    </tr>\n",
       "  </thead>\n",
       "  <tbody>\n",
       "    <tr>\n",
       "      <th>0</th>\n",
       "      <td>0100005</td>\n",
       "      <td>3</td>\n",
       "      <td>3</td>\n",
       "      <td>1095</td>\n",
       "      <td>1</td>\n",
       "      <td>8</td>\n",
       "      <td>3790</td>\n",
       "      <td>2482000</td>\n",
       "      <td>1101000</td>\n",
       "      <td>224000</td>\n",
       "      <td>...</td>\n",
       "      <td>12471000</td>\n",
       "      <td>5847000</td>\n",
       "      <td>7745000</td>\n",
       "      <td>32292000</td>\n",
       "      <td>736000</td>\n",
       "      <td>12082000</td>\n",
       "      <td>70000</td>\n",
       "      <td>240000</td>\n",
       "      <td>413000</td>\n",
       "      <td>69.6</td>\n",
       "    </tr>\n",
       "    <tr>\n",
       "      <th>1</th>\n",
       "      <td>0100006</td>\n",
       "      <td>3</td>\n",
       "      <td>3</td>\n",
       "      <td>1095</td>\n",
       "      <td>1</td>\n",
       "      <td>8</td>\n",
       "      <td>5647</td>\n",
       "      <td>5309000</td>\n",
       "      <td>1408000</td>\n",
       "      <td>242000</td>\n",
       "      <td>...</td>\n",
       "      <td>17798000</td>\n",
       "      <td>10404000</td>\n",
       "      <td>11933000</td>\n",
       "      <td>50516000</td>\n",
       "      <td>1491000</td>\n",
       "      <td>2443000</td>\n",
       "      <td>8000</td>\n",
       "      <td>555000</td>\n",
       "      <td>746000</td>\n",
       "      <td>61.3</td>\n",
       "    </tr>\n",
       "    <tr>\n",
       "      <th>2</th>\n",
       "      <td>0100007</td>\n",
       "      <td>3</td>\n",
       "      <td>3</td>\n",
       "      <td>1073</td>\n",
       "      <td>1</td>\n",
       "      <td>8</td>\n",
       "      <td>12479</td>\n",
       "      <td>1513000</td>\n",
       "      <td>2158000</td>\n",
       "      <td>159000</td>\n",
       "      <td>...</td>\n",
       "      <td>52946000</td>\n",
       "      <td>28252000</td>\n",
       "      <td>34750000</td>\n",
       "      <td>148790000</td>\n",
       "      <td>4709000</td>\n",
       "      <td>5784000</td>\n",
       "      <td>99000</td>\n",
       "      <td>1876000</td>\n",
       "      <td>9415000</td>\n",
       "      <td>91.9</td>\n",
       "    </tr>\n",
       "    <tr>\n",
       "      <th>3</th>\n",
       "      <td>0100008</td>\n",
       "      <td>3</td>\n",
       "      <td>3</td>\n",
       "      <td>1089</td>\n",
       "      <td>1</td>\n",
       "      <td>8</td>\n",
       "      <td>8298</td>\n",
       "      <td>1582000</td>\n",
       "      <td>1738000</td>\n",
       "      <td>46000</td>\n",
       "      <td>...</td>\n",
       "      <td>27664000</td>\n",
       "      <td>12089000</td>\n",
       "      <td>16632000</td>\n",
       "      <td>72287000</td>\n",
       "      <td>1245000</td>\n",
       "      <td>8347000</td>\n",
       "      <td>132000</td>\n",
       "      <td>798000</td>\n",
       "      <td>3316000</td>\n",
       "      <td>100.0</td>\n",
       "    </tr>\n",
       "    <tr>\n",
       "      <th>4</th>\n",
       "      <td>0100011</td>\n",
       "      <td>3</td>\n",
       "      <td>3</td>\n",
       "      <td>1073</td>\n",
       "      <td>1</td>\n",
       "      <td>8</td>\n",
       "      <td>1406</td>\n",
       "      <td>839000</td>\n",
       "      <td>346000</td>\n",
       "      <td>0</td>\n",
       "      <td>...</td>\n",
       "      <td>4262000</td>\n",
       "      <td>2685000</td>\n",
       "      <td>2990000</td>\n",
       "      <td>12542000</td>\n",
       "      <td>138000</td>\n",
       "      <td>1575000</td>\n",
       "      <td>13000</td>\n",
       "      <td>84000</td>\n",
       "      <td>182000</td>\n",
       "      <td>67.3</td>\n",
       "    </tr>\n",
       "  </tbody>\n",
       "</table>\n",
       "<p>5 rows × 26 columns</p>\n",
       "</div>"
      ],
      "text/plain": [
       "     LEAID  SCHLEV AGCHRT  CONUM  FIPST  YEAR    V33  Re_F_Basic  \\\n",
       "0  0100005       3      3   1095      1     8   3790     2482000   \n",
       "1  0100006       3      3   1095      1     8   5647     5309000   \n",
       "2  0100007       3      3   1073      1     8  12479     1513000   \n",
       "3  0100008       3      3   1089      1     8   8298     1582000   \n",
       "4  0100011       3      3   1073      1     8   1406      839000   \n",
       "\n",
       "   Re_F_Special  Re_F_Other  ...    Ex_Teacher_Inst  Ex_Teacher_Supp  \\\n",
       "0       1101000      224000  ...           12471000          5847000   \n",
       "1       1408000      242000  ...           17798000         10404000   \n",
       "2       2158000      159000  ...           52946000         28252000   \n",
       "3       1738000       46000  ...           27664000         12089000   \n",
       "4        346000           0  ...            4262000          2685000   \n",
       "\n",
       "   Ex_Employ     Ex_Edu  Ex_Community  Ex_Capital  Ex_Payment  Ex_Textbook  \\\n",
       "0    7745000   32292000        736000    12082000       70000       240000   \n",
       "1   11933000   50516000       1491000     2443000        8000       555000   \n",
       "2   34750000  148790000       4709000     5784000       99000      1876000   \n",
       "3   16632000   72287000       1245000     8347000      132000       798000   \n",
       "4    2990000   12542000        138000     1575000       13000        84000   \n",
       "\n",
       "   Ex_Interest   AFGR  \n",
       "0       413000   69.6  \n",
       "1       746000   61.3  \n",
       "2      9415000   91.9  \n",
       "3      3316000  100.0  \n",
       "4       182000   67.3  \n",
       "\n",
       "[5 rows x 26 columns]"
      ]
     },
     "execution_count": 41,
     "metadata": {},
     "output_type": "execute_result"
    }
   ],
   "source": [
    "data.head()"
   ]
  },
  {
   "cell_type": "markdown",
   "metadata": {},
   "source": [
    "# 4. Output\n",
    "---\n",
    "To get cleaned and merged data in each year, the code needs to be rerun again with changes noted in the code."
   ]
  },
  {
   "cell_type": "markdown",
   "metadata": {},
   "source": [
    "##### Because we assumed you run this code only for checking the code, we put the `07-08data.csv` in a temp directory, saving temporary data."
   ]
  },
  {
   "cell_type": "code",
   "execution_count": 42,
   "metadata": {},
   "outputs": [],
   "source": [
    "# save the data to the correspoding csv file for the year\n",
    "#data.to_csv('06-07data.csv')\n",
    "data.to_csv('temp/data/07-08data.csv')\n",
    "#data.to_csv('08-09data.csv')\n",
    "#data.to_csv('09-10data.csv')"
   ]
  },
  {
   "cell_type": "code",
   "execution_count": 43,
   "metadata": {},
   "outputs": [],
   "source": [
    "#data0607 = data\n",
    "data0708 = data\n",
    "#data0809 = data\n",
    "#data0910 = data"
   ]
  },
  {
   "cell_type": "markdown",
   "metadata": {},
   "source": [
    "# 5. Combine four data files\n",
    "---\n",
    "This can only be run when data files from four different years are all created."
   ]
  },
  {
   "cell_type": "code",
   "execution_count": 44,
   "metadata": {},
   "outputs": [],
   "source": [
    "#data0607.info()\n",
    "#data0708.info()\n",
    "#data0809.info()\n",
    "#data0910.info()"
   ]
  },
  {
   "cell_type": "code",
   "execution_count": 45,
   "metadata": {},
   "outputs": [],
   "source": [
    "# combine files from the four years\n",
    "# data_com = pd.concat([data0607,data0708,data0809,data0910])\n",
    "# data_com.info()"
   ]
  },
  {
   "cell_type": "code",
   "execution_count": 46,
   "metadata": {},
   "outputs": [],
   "source": [
    "# # save the complete csv file\n",
    "# data_com.to_csv('data_com.csv')"
   ]
  },
  {
   "cell_type": "markdown",
   "metadata": {},
   "source": [
    "The Final data file `data_com.csv` is generated by this code above, which is commented.\n",
    "While, to generate this, needs all the files available. You can re-run the code and follow the comments to slightly change some line of this code.\n",
    "\n",
    "##### But all the procedure in other ipynb are using the dataset in `data/data_com.csv`, which is the final dataset we have already created."
   ]
  }
 ],
 "metadata": {
  "kernelspec": {
   "display_name": "Python 3",
   "language": "python",
   "name": "python3"
  },
  "language_info": {
   "codemirror_mode": {
    "name": "ipython",
    "version": 3
   },
   "file_extension": ".py",
   "mimetype": "text/x-python",
   "name": "python",
   "nbconvert_exporter": "python",
   "pygments_lexer": "ipython3",
   "version": "3.7.7"
  }
 },
 "nbformat": 4,
 "nbformat_minor": 2
}
